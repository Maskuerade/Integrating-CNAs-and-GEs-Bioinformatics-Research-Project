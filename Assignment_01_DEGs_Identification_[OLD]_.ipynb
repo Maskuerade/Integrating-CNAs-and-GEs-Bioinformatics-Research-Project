{
  "cells": [
    {
      "cell_type": "code",
      "execution_count": null,
      "metadata": {
        "id": "mNyQHQIdR65N"
      },
      "outputs": [],
      "source": [
        "# from google.colab import files\n",
        "# uploaded = files.upload()"
      ]
    },
    {
      "cell_type": "markdown",
      "metadata": {
        "id": "bOh8qQn-dfev"
      },
      "source": [
        "# <font color='#edca82'>***Imports***</font>\n"
      ]
    },
    {
      "cell_type": "code",
      "execution_count": null,
      "metadata": {
        "id": "w0kfbKRidoJy"
      },
      "outputs": [],
      "source": [
        "import numpy as np\n",
        "import pandas as pd\n",
        "import seaborn as sns\n",
        "import matplotlib.pyplot as plt\n",
        "import csv\n",
        "from matplotlib.ticker import ScalarFormatter  # Import ScalarFormatter\n",
        "import matplotlib.gridspec as gridspec\n",
        "from sklearn.preprocessing import StandardScaler\n",
        "from scipy.stats import pearsonr\n",
        "from sklearn.cluster import KMeans\n",
        "from sklearn.preprocessing import quantile_transform\n",
        "from scipy.stats import shapiro\n",
        "import scipy.stats as stats\n",
        "# edca82 097770 f5beb4"
      ]
    },
    {
      "cell_type": "markdown",
      "metadata": {
        "id": "1mWkmXG1JR7J"
      },
      "source": [
        "# <font color='#edca82'>***Lung Analysis***</font>\n"
      ]
    },
    {
      "cell_type": "markdown",
      "metadata": {
        "id": "bV-s7sj7mLL3"
      },
      "source": [
        "## <font color='#097770'>***I. Extracting Datasets***</font>"
      ]
    },
    {
      "cell_type": "markdown",
      "metadata": {
        "id": "6WqEDY0LJiOM"
      },
      "source": [
        "### <font color='#f5beb4'>***A. Normal Lung Dataset***</font>"
      ]
    },
    {
      "cell_type": "code",
      "execution_count": null,
      "metadata": {
        "colab": {
          "base_uri": "https://localhost:8080/"
        },
        "id": "frVZ0nwiYkti",
        "outputId": "4c33076d-c0a7-4cbe-9348-3d10cf58f576"
      },
      "outputs": [
        {
          "output_type": "stream",
          "name": "stdout",
          "text": [
            "Shape of Normal Lung Dataset: (19648, 52)\n",
            "\n",
            "----------------------------------------------\n",
            "\n",
            "A sample of the dataset:\n",
            "\n",
            "   Hugo_Symbol  Entrez_Gene_Id  TCGA-43-7657  TCGA-58-8386  TCGA-22-5478  \\\n",
            "0    HIST3H2A           92815         62.12        130.60         33.06   \n",
            "1       LIN7B           64130        185.11        283.05        119.26   \n",
            "2         LXN           56925        909.17        819.30        412.00   \n",
            "3      CNKSR2           22866         41.81         18.29         40.93   \n",
            "4       SCML1            6322        133.36        214.27        108.14   \n",
            "\n",
            "   TCGA-22-5472  TCGA-43-5670  TCGA-60-2709  TCGA-22-5489  TCGA-77-8007  ...  \\\n",
            "0         35.50         73.03         60.39         92.05         66.65  ...   \n",
            "1        169.07        165.57        161.02        131.51        198.47  ...   \n",
            "2        743.43       1340.84        607.87       1709.26       1709.26  ...   \n",
            "3         67.12         54.72         29.27         20.26         23.76  ...   \n",
            "4        109.66        190.34        211.31         96.01        208.38  ...   \n",
            "\n",
            "   TCGA-85-7710  TCGA-56-7580  TCGA-43-6647  TCGA-90-6837  TCGA-56-8083  \\\n",
            "0         90.77         59.55         40.07         22.92         29.91   \n",
            "1        185.11        119.26        102.97        123.50        264.03   \n",
            "2        813.63       2400.97        543.96       2193.99        540.19   \n",
            "3         34.51         70.01         57.49         57.89         67.12   \n",
            "4        251.48        209.84        120.10        109.66        155.50   \n",
            "\n",
            "   TCGA-51-4079  TCGA-56-7222  TCGA-22-4593  TCGA-51-4081  TCGA-56-8309  \n",
            "0         82.29          4.70         37.32         43.63         77.25  \n",
            "1        194.36        166.73        105.15        185.11        356.05  \n",
            "2        521.76        253.23        764.36        518.15        878.17  \n",
            "3         34.51         22.10         31.90         28.24         49.91  \n",
            "4        162.14        277.20         86.43        164.42        155.50  \n",
            "\n",
            "[5 rows x 52 columns]\n"
          ]
        }
      ],
      "source": [
        "# Define the file path for the normal lung dataset\n",
        "path_to_normal_txt = 'lusc-rsem-fpkm-tcga_paired.txt'\n",
        "\n",
        "# Load the data from the TXT file into a DataFrame\n",
        "# We assume that the data is tab-separated (sep='\\t')\n",
        "normal_lung_df = pd.read_csv(path_to_normal_txt, sep='\\t')\n",
        "\n",
        "# Print the shape (dimensions) of the Normal Lung Dataset\n",
        "print(f'Shape of Normal Lung Dataset: {normal_lung_df.shape}\\n')\n",
        "\n",
        "# Separator line for clarity\n",
        "print('----------------------------------------------\\n')\n",
        "\n",
        "# Print a sample of the dataset (the first few rows)\n",
        "print(f'A sample of the dataset:\\n\\n {normal_lung_df.head()}')\n",
        "\n",
        "# Now, the 'normal_lung_df' DataFrame contains the data from the specified file"
      ]
    },
    {
      "cell_type": "markdown",
      "metadata": {
        "id": "sDtKjUdULmuD"
      },
      "source": [
        "### <font color='#f5beb4'>***B. Cancerous Lung Dataset***</font>"
      ]
    },
    {
      "cell_type": "code",
      "execution_count": null,
      "metadata": {
        "colab": {
          "base_uri": "https://localhost:8080/"
        },
        "id": "EOIq_3UWYp4r",
        "outputId": "b026c781-b1a5-4e28-cdf7-a0c7cf5332ef"
      },
      "outputs": [
        {
          "output_type": "stream",
          "name": "stdout",
          "text": [
            "Shape of Cancerous Lung Dataset: (19648, 52)\n",
            "\n",
            "----------------------------------------------\n",
            "\n",
            "A sample of the dataset:\n",
            "\n",
            "   Hugo_Symbol  Entrez_Gene_Id  TCGA-43-7657  TCGA-58-8386  TCGA-22-5478  \\\n",
            "0    HIST3H2A           92815        336.79        500.46        703.28   \n",
            "1       LIN7B           64130        105.15        212.78        102.25   \n",
            "2         LXN           56925        848.22        236.21        271.48   \n",
            "3      CNKSR2           22866         32.59          8.51         45.85   \n",
            "4       SCML1            6322         84.63         74.58         67.12   \n",
            "\n",
            "   TCGA-22-5472  TCGA-43-5670  TCGA-60-2709  TCGA-22-5489  TCGA-77-8007  ...  \\\n",
            "0        287.01        486.75         70.51        145.02         14.03  ...   \n",
            "1        212.78        172.65        244.57        105.89        152.28  ...   \n",
            "2        759.08         61.25        620.67        329.84        599.49  ...   \n",
            "3          6.16         49.21         11.91         12.27         15.00  ...   \n",
            "4         57.89        102.97        132.44         66.65         57.08  ...   \n",
            "\n",
            "   TCGA-85-7710  TCGA-56-7580  TCGA-43-6647  TCGA-90-6837  TCGA-56-8083  \\\n",
            "0          3.06        420.68        109.66        106.63       1233.75   \n",
            "1        135.24        135.24        151.22        395.18        295.11   \n",
            "2        688.78        204.07        438.59        503.95       3039.30   \n",
            "3          1.38          6.62          6.11          1.66         33.54   \n",
            "4        165.57        119.26         87.65         53.57        232.94   \n",
            "\n",
            "   TCGA-51-4079  TCGA-56-7222  TCGA-22-4593  TCGA-51-4081  TCGA-56-8309  \n",
            "0        172.65        303.44        228.13        251.48         23.59  \n",
            "1        120.94        114.36         96.68        277.20        153.34  \n",
            "2        607.87        106.63        507.46        255.00        346.29  \n",
            "3          3.11          0.82          3.32         27.25          6.16  \n",
            "4         67.12         64.80         90.14        198.47        154.42  \n",
            "\n",
            "[5 rows x 52 columns]\n"
          ]
        }
      ],
      "source": [
        "# Define file paths for the cancerous datasets\n",
        "path_to_cancerous_txt = 'lusc-rsem-fpkm-tcga-t_paired.txt'\n",
        "\n",
        "# Load the data from the TXT files into DataFrames\n",
        "# We assume that the data is tab-separated (sep='\\t')\n",
        "cancerous_lung_df = pd.read_csv(path_to_cancerous_txt, sep='\\t')\n",
        "\n",
        "# Print the shape (dimensions) of the Cancerous Lung Dataset\n",
        "print(f'Shape of Cancerous Lung Dataset: {cancerous_lung_df.shape}\\n')\n",
        "\n",
        "# Separator line for clarity\n",
        "print('----------------------------------------------\\n')\n",
        "\n",
        "# Print a sample of the dataset (the first few rows)\n",
        "print(f'A sample of the dataset:\\n\\n {cancerous_lung_df.head()}')\n",
        "\n",
        "# Now, the 'cancerous_lung_df' DataFrame contains the data from the specified file"
      ]
    },
    {
      "cell_type": "markdown",
      "metadata": {
        "id": "cmMihEdZnZ1m"
      },
      "source": [
        "## <font color='#097770'>***II. Calculating Difference Between Normal and Cancerous Gene Expression Levels***</font>"
      ]
    },
    {
      "cell_type": "markdown",
      "metadata": {
        "id": "n5WRT64V82W0"
      },
      "source": [
        "### <font color='#f5beb4'>***A. Concatenating Normal and Cancerous Gene Expression Levels***</font>"
      ]
    },
    {
      "cell_type": "code",
      "execution_count": null,
      "metadata": {
        "id": "2lQ4JDXl5uE2",
        "colab": {
          "base_uri": "https://localhost:8080/"
        },
        "outputId": "f60205ff-89c8-4256-9788-ca68eefc7ce0"
      },
      "outputs": [
        {
          "output_type": "stream",
          "name": "stdout",
          "text": [
            "Printing a sample of our normal and cancerous expression levels concatenated with their corresponding gene:\n",
            "\n",
            "Gene: HIST3H2A\n",
            "Normal: [ 62.12 130.6   33.06  35.5   73.03  60.39  92.05  66.65  54.33  15.56\n",
            "  55.49  30.34  14.45 100.83 131.51  59.55  87.03  71.5   23.08  48.87\n",
            "  72.52 115.97  45.21  74.58   8.92  27.44  40.64  35.76  59.13  20.86\n",
            "  37.05  48.18  51.71  49.56  72.01  21.94  27.44  35.    76.17  28.86\n",
            "  90.77  59.55  40.07  22.92  29.91  82.29   4.7   37.32  43.63  77.25]\n",
            "Cancerous: [ 336.79  500.46  703.28  287.01  486.75   70.51  145.02   14.03  397.93\n",
            "  318.57  463.65    6.78  242.88  135.24  363.56  231.32  403.5   136.19\n",
            "  130.6   285.03  156.59  954.43  454.09  110.43   16.51  447.82  103.69\n",
            "  187.71  127.89  718.08  836.53   98.73   80.57  260.38  197.09  223.41\n",
            "  343.89  303.44  115.16   74.06    3.06  420.68  109.66  106.63 1233.75\n",
            "  172.65  303.44  228.13  251.48   23.59] \n",
            "\n",
            "Gene: LIN7B\n",
            "Normal: [185.11 283.05 119.26 169.07 165.57 161.02 131.51 198.47 175.07 147.06\n",
            " 151.22  84.63  72.01 248.   363.56 218.79 173.85 253.23 120.1  131.51\n",
            " 110.43 205.5  162.14 363.56 120.1   85.22 214.27 126.12 138.1  214.27\n",
            " 170.25 112.77 111.21 180.02 197.09 111.21  93.35 114.36 231.32 181.28\n",
            " 185.11 119.26 102.97 123.5  264.03 194.36 166.73 105.15 185.11 356.05]\n",
            "Cancerous: [105.15 212.78 102.25 212.78 172.65 244.57 105.89 152.28 258.57 218.79\n",
            " 249.73 199.85 215.77 215.77  62.56 231.32 173.85 164.42  81.71 217.27\n",
            " 323.03 373.81 136.19 231.32 153.34 177.53 181.28  49.91 181.28 435.55\n",
            " 162.14  87.03 199.85 305.55 165.57 162.14 171.45  80.57 215.77 106.63\n",
            " 135.24 135.24 151.22 395.18 295.11 120.94 114.36  96.68 277.2  153.34] \n",
            "\n",
            "Gene: LXN\n",
            "Normal: [ 909.17  819.3   412.    743.43 1340.84  607.87 1709.26 1709.26  603.67\n",
            "  555.41  693.58  616.37  518.15  813.63  753.83  769.69  642.59  624.99\n",
            "  854.13  802.41 1037.29  532.74 1088.92  842.36  507.46  769.69  514.56\n",
            "  974.5  1340.84  679.29  444.72  928.3  1233.75  718.08 1051.79 2367.9\n",
            "  389.72  836.53  669.92  460.44  813.63 2400.97  543.96 2193.99  540.19\n",
            "  521.76  253.23  764.36  518.15  878.17]\n",
            "Cancerous: [ 848.22  236.21  271.48  759.08   61.25  620.67  329.84  599.49  587.13\n",
            "  638.15  400.71   99.43  287.01  896.64  100.13  143.01  830.75  603.67\n",
            "  708.18  490.14  555.41  688.78  463.65  246.28   81.14  860.08  107.38\n",
            "  353.59  358.54  285.03   88.26  412.    607.87  579.04  414.87  490.14\n",
            "  684.02  571.05  121.79  339.14  688.78  204.07  438.59  503.95 3039.3\n",
            "  607.87  106.63  507.46  255.    346.29] \n",
            "\n",
            "Gene: CNKSR2\n",
            "Normal: [41.81 18.29 40.93 67.12 54.72 29.27 20.26 23.76 28.04 39.22 46.5  42.41\n",
            " 37.85 51.35 24.81 53.95 35.   54.72 53.95 19.25 34.51 51.71 12.64 25.35\n",
            " 43.32 64.34 43.63 77.25 40.93 33.3  33.3  58.71 29.27 32.59 44.89 55.49\n",
            " 24.11 56.28 39.79 38.4  34.51 70.01 57.49 57.89 67.12 34.51 22.1  31.9\n",
            " 28.24 49.91]\n",
            "Cancerous: [32.59  8.51 45.85  6.16 49.21 11.91 12.27 15.    1.38  8.71  4.31 10.31\n",
            "  9.2  35.   26.86 16.88 25.72  2.73  8.71 25.54  4.54 23.76  6.41 18.7\n",
            "  0.    2.89  2.03  9.56  3.59  8.85 21.78 15.91  1.73 74.58  6.52 25.35\n",
            "  7.17  2.76 13.12  4.31  1.38  6.62  6.11  1.66 33.54  3.11  0.82  3.32\n",
            " 27.25  6.16] \n",
            "\n",
            "Gene: SCML1\n",
            "Normal: [133.36 214.27 108.14 109.66 190.34 211.31  96.01 208.38 120.1  239.52\n",
            " 124.37 249.73 103.69 214.27 162.14 195.72 127.89 127.   119.26 124.37\n",
            " 180.02 115.16 105.89 334.46 199.85 208.38 195.72 202.66 214.27 132.44\n",
            " 114.36 176.29 195.72 105.89 111.21 228.13 130.6  165.57 159.9  202.66\n",
            " 251.48 209.84 120.1  109.66 155.5  162.14 277.2   86.43 164.42 155.5 ]\n",
            "Cancerous: [ 84.63  74.58  67.12  57.89 102.97 132.44  66.65  57.08 336.79 171.45\n",
            "  94.67  31.67 134.3  206.94 118.43 205.5  202.66 191.67 110.43 131.51\n",
            "  62.12 220.32 224.97  38.95  84.63 161.02 182.55  56.28 129.69 417.77\n",
            "  68.55 147.06  77.79 206.94  61.68 267.73  74.58  96.01 361.04 170.25\n",
            " 165.57 119.26  87.65  53.57 232.94  67.12  64.8   90.14 198.47 154.42] \n",
            "\n",
            "Shape of exprLung_data: 19648 genes x 50 values per gene\n"
          ]
        }
      ],
      "source": [
        "# Get the list of all genes\n",
        "allGenes_lung = normal_lung_df['Hugo_Symbol'].unique()\n",
        "\n",
        "# Initialize a dictionary to store expression levels with gene names as keys\n",
        "exprLung_data = {}\n",
        "\n",
        "# Iterate through all genes\n",
        "for gene in allGenes_lung:\n",
        "    # Get the expression levels for the current gene\n",
        "    normalLung_expression = normal_lung_df[normal_lung_df['Hugo_Symbol'] == gene].iloc[:, 2:].values.flatten()\n",
        "    cancerousLung_expression = cancerous_lung_df[cancerous_lung_df['Hugo_Symbol'] == gene].iloc[:, 2:].values.flatten()\n",
        "\n",
        "    # Store the expression levels in the dictionary with the gene name as the key\n",
        "    exprLung_data[gene] = {\n",
        "        'Normal': normalLung_expression,\n",
        "        'Cancerous': cancerousLung_expression\n",
        "    }\n",
        "\n",
        "# Now exprLung_data is a dictionary where each key is a gene name, and the value is a dictionary\n",
        "# containing 'Normal' and 'Cancerous' expression levels as NumPy arrays\n",
        "# You can access the data for a specific gene using its name as the key\n",
        "\n",
        "print('Printing a sample of our normal and cancerous expression levels concatenated with their corresponding gene:\\n')\n",
        "\n",
        "# Iterate through the first five genes and their expression data\n",
        "for i, (gene, expression_data) in enumerate(exprLung_data.items()):\n",
        "    if i >= 5:  # Stop after the first five genes\n",
        "        break\n",
        "    print(f'Gene: {gene}')  # Print the gene name\n",
        "    print('Normal:', expression_data['Normal'])  # Print normal expression levels\n",
        "    print('Cancerous:', expression_data['Cancerous'],'\\n')  # Print cancerous expression levels\n",
        "\n",
        "numValues_per_gene_lung = len(next(iter(exprLung_data.values()))['Normal'])\n",
        "\n",
        "# Print the shape of exprLung_data\n",
        "print(f'Shape of exprLung_data: {len(exprLung_data)} genes x {numValues_per_gene_lung} values per gene')"
      ]
    },
    {
      "cell_type": "markdown",
      "metadata": {
        "id": "iexaf30QnKAF"
      },
      "source": [
        "### <font color='#f5beb4'>***B. Handling Null Values***</font>"
      ]
    },
    {
      "cell_type": "code",
      "execution_count": null,
      "metadata": {
        "id": "fdFMhonBnRts"
      },
      "outputs": [],
      "source": [
        "# Initialize a list to store the indices of genes with more than 50% zeros\n",
        "genes_with_more_than_50_percent_zeros_lung = []\n",
        "\n",
        "# Iterate through all genes\n",
        "for i, gene in enumerate(exprLung_data):\n",
        "    # Get the normal expression levels for the current gene\n",
        "    normal_expression = exprLung_data[gene]['Normal']\n",
        "    cancerous_expression = exprLung_data[gene]['Cancerous']\n",
        "\n",
        "    # Count the number of zeros for normal and cancerous expressions\n",
        "    num_zeros_normal = len(normal_expression[normal_expression == 0])\n",
        "    num_zeros_cancerous = len(cancerous_expression[cancerous_expression == 0])\n",
        "\n",
        "    # Calculate the percentage of zeros for normal and cancerous expressions\n",
        "    percentage_zerosNormal = (num_zeros_normal / len(normal_expression)) * 100\n",
        "    percentage_zerosCancerous = (num_zeros_cancerous / len(cancerous_expression)) * 100\n",
        "\n",
        "    # Check if the percentage of zeros is more than 50% for both normal and cancerous expressions\n",
        "    if percentage_zerosNormal >= 50 or percentage_zerosCancerous >= 50:\n",
        "        genes_with_more_than_50_percent_zeros_lung.append(i)"
      ]
    },
    {
      "cell_type": "code",
      "execution_count": null,
      "metadata": {
        "id": "Yv320ZB0nT6F",
        "colab": {
          "base_uri": "https://localhost:8080/"
        },
        "outputId": "d199fdff-cf37-4fd2-a288-5f87af4b8282"
      },
      "outputs": [
        {
          "output_type": "stream",
          "name": "stdout",
          "text": [
            "Number of filtered genes: 17284\n",
            "Number of removed genes: 2364 \n",
            "\n",
            "----------------------------------------------\n",
            "\n",
            "A sample of first 10 genes removed for having null values greater than 50%:\n",
            "\n",
            "Gene Name: MAS1L, Index in exprLung_data (1-based): 18\n",
            "Gene Name: CELF6, Index in exprLung_data (1-based): 54\n",
            "Gene Name: RBMY1F, Index in exprLung_data (1-based): 68\n",
            "Gene Name: CDH9, Index in exprLung_data (1-based): 72\n",
            "Gene Name: G6PC2, Index in exprLung_data (1-based): 77\n",
            "Gene Name: C1orf158, Index in exprLung_data (1-based): 85\n",
            "Gene Name: GLRA1, Index in exprLung_data (1-based): 86\n",
            "Gene Name: OR1N2, Index in exprLung_data (1-based): 94\n",
            "Gene Name: CTD-2545G14.7, Index in exprLung_data (1-based): 101\n",
            "Gene Name: CABP5, Index in exprLung_data (1-based): 109\n"
          ]
        }
      ],
      "source": [
        "# Filter out genes with more than 50% zeros from exprLung_data\n",
        "allGenes_lung_filtered = [gene for i, gene in enumerate(exprLung_data) if i not in genes_with_more_than_50_percent_zeros_lung]\n",
        "\n",
        "# Get the list of genes that were filtered out\n",
        "filteredGenes_Lung = [gene for i, gene in enumerate(exprLung_data) if i in genes_with_more_than_50_percent_zeros_lung]\n",
        "\n",
        "# Create new dictionaries to store the filtered and removed data\n",
        "exprLung_data_filteredGenes = {gene: exprLung_data[gene] for gene in allGenes_lung_filtered}\n",
        "exprLung_data_removedGenes = {gene: exprLung_data[gene] for gene in filteredGenes_Lung}\n",
        "\n",
        "# Print the number of filtered and removed genes\n",
        "print(f\"Number of filtered genes: {len(exprLung_data_filteredGenes)}\")\n",
        "print(f\"Number of removed genes: {len(exprLung_data_removedGenes)}\",\"\\n\")\n",
        "\n",
        "# Separator line for clarity\n",
        "print('----------------------------------------------\\n')\n",
        "\n",
        "# Printing out a sample of removed genes\n",
        "print('A sample of first 10 genes removed for having null values greater than 50%:\\n')\n",
        "\n",
        "# Get the list of genes in exprLung_data_removedGenes\n",
        "genes_in_removedGenes = list(exprLung_data_removedGenes.keys())\n",
        "\n",
        "# Iterate over the first ten genes in exprLung_data_removedGenes\n",
        "for i, gene in enumerate(genes_in_removedGenes[:10]):\n",
        "    if i >= 10:\n",
        "        break\n",
        "    index_in_exprLung_data = list(exprLung_data.keys()).index(gene)\n",
        "    print(f\"Gene Name: {gene}, Index in exprLung_data (1-based): {index_in_exprLung_data+1}\")"
      ]
    },
    {
      "cell_type": "markdown",
      "metadata": {
        "id": "_yc1ad7BBFxl"
      },
      "source": [
        "### <font color='#f5beb4'>***C. Calculating Differences Between Normal and Cancerous Gene Expression Levels***</font>"
      ]
    },
    {
      "cell_type": "code",
      "execution_count": null,
      "metadata": {
        "id": "ApWG7ZL37_Po",
        "colab": {
          "base_uri": "https://localhost:8080/"
        },
        "outputId": "8dcb9769-23e2-4365-c4a0-20bff59e733d"
      },
      "outputs": [
        {
          "output_type": "stream",
          "name": "stdout",
          "text": [
            "Printing a sample of difference between normal and cancerous expression levels concatenated with their corresponding gene:\n",
            "\n",
            "Gene: HIST3H2A\n",
            "Differences: [ 274.67  369.86  670.22  251.51  413.72   10.12   52.97  -52.62  343.6\n",
            "  303.01  408.16  -23.56  228.43   34.41  232.05  171.77  316.47   64.69\n",
            "  107.52  236.16   84.07  838.46  408.88   35.85    7.59  420.38   63.05\n",
            "  151.95   68.76  697.22  799.48   50.55   28.86  210.82  125.08  201.47\n",
            "  316.45  268.44   38.99   45.2   -87.71  361.13   69.59   83.71 1203.84\n",
            "   90.36  298.74  190.81  207.85  -53.66] \n",
            "\n",
            "Gene: LIN7B\n",
            "Differences: [ -79.96  -70.27  -17.01   43.71    7.08   83.55  -25.62  -46.19   83.5\n",
            "   71.73   98.51  115.22  143.76  -32.23 -301.     12.53    0.    -88.81\n",
            "  -38.39   85.76  212.6   168.31  -25.95 -132.24   33.24   92.31  -32.99\n",
            "  -76.21   43.18  221.28   -8.11  -25.74   88.64  125.53  -31.52   50.93\n",
            "   78.1   -33.79  -15.55  -74.65  -49.87   15.98   48.25  271.68   31.08\n",
            "  -73.42  -52.37   -8.47   92.09 -202.71] \n",
            "\n",
            "Gene: LXN\n",
            "Differences: [  -60.95  -583.09  -140.52    15.65 -1279.59    12.8  -1379.42 -1109.77\n",
            "   -16.54    82.74  -292.87  -516.94  -231.14    83.01  -653.7   -626.68\n",
            "   188.16   -21.32  -145.95  -312.27  -481.88   156.04  -625.27  -596.08\n",
            "  -426.32    90.39  -407.18  -620.91  -982.3   -394.26  -356.46  -516.3\n",
            "  -625.88  -139.04  -636.92 -1877.76   294.3   -265.48  -548.13  -121.3\n",
            "  -124.85 -2196.9   -105.37 -1690.04  2499.11    86.11  -146.6   -256.9\n",
            "  -263.15  -531.88] \n",
            "\n",
            "Gene: CNKSR2\n",
            "Differences: [ -9.22  -9.78   4.92 -60.96  -5.51 -17.36  -7.99  -8.76 -26.66 -30.51\n",
            " -42.19 -32.1  -28.65 -16.35   2.05 -37.07  -9.28 -51.99 -45.24   6.29\n",
            " -29.97 -27.95  -6.23  -6.65 -43.32 -61.45 -41.6  -67.69 -37.34 -24.45\n",
            " -11.52 -42.8  -27.54  41.99 -38.37 -30.14 -16.94 -53.52 -26.67 -34.09\n",
            " -33.13 -63.39 -51.38 -56.23 -33.58 -31.4  -21.28 -28.58  -0.99 -43.75] \n",
            "\n",
            "Gene: SCML1\n",
            "Differences: [ -48.73 -139.69  -41.02  -51.77  -87.37  -78.87  -29.36 -151.3   216.69\n",
            "  -68.07  -29.7  -218.06   30.61   -7.33  -43.71    9.78   74.77   64.67\n",
            "   -8.83    7.14 -117.9   105.16  119.08 -295.51 -115.22  -47.36  -13.17\n",
            " -146.38  -84.58  285.33  -45.81  -29.23 -117.93  101.05  -49.53   39.6\n",
            "  -56.02  -69.56  201.14  -32.41  -85.91  -90.58  -32.45  -56.09   77.44\n",
            "  -95.02 -212.4     3.71   34.05   -1.08] \n",
            "\n",
            "Shape of exprLung_differences: 17284 genes x 50 values per gene\n"
          ]
        }
      ],
      "source": [
        "# Initialize a list to store the differences\n",
        "exprLung_differences = []\n",
        "\n",
        "# Iterate through the genes\n",
        "for gene, expression_data in exprLung_data_filteredGenes.items():\n",
        "    # Get the normal and cancerous expression levels\n",
        "    normal_levels = expression_data['Normal']\n",
        "    cancerous_levels = expression_data['Cancerous']\n",
        "\n",
        "    # Calculate the differences for each gene\n",
        "    differences = cancerous_levels - normal_levels\n",
        "\n",
        "    # Add the differences to the list\n",
        "    exprLung_differences.append((gene, differences))\n",
        "\n",
        "# Now exprLung_differences contains the gene name and the corresponding differences for each gene\n",
        "print('Printing a sample of difference between normal and cancerous expression levels concatenated with their corresponding gene:\\n')\n",
        "\n",
        "# Print the first five lists\n",
        "for gene, differences in exprLung_differences[:5]:\n",
        "    print(f'Gene: {gene}')  # Print the gene name\n",
        "    print('Differences:', differences,'\\n')  # Print the list of differences for the gene\n",
        "\n",
        "# Check the shape of exprLung_differences\n",
        "valPerGene_Lung = len(exprLung_differences[0][1])\n",
        "print(f'Shape of exprLung_differences: {len(exprLung_differences)} genes x {valPerGene_Lung} values per gene')"
      ]
    },
    {
      "cell_type": "markdown",
      "metadata": {
        "id": "COxUEIQJSNdE"
      },
      "source": [
        "## <font color='#097770'>***III. Normality Test [Wilk Shapiro Test]***</font>"
      ]
    },
    {
      "cell_type": "code",
      "execution_count": null,
      "metadata": {
        "id": "8kDEbMWmM7Hk",
        "colab": {
          "base_uri": "https://localhost:8080/"
        },
        "outputId": "acdca9b8-6017-43ab-c1f0-f17a8b103374"
      },
      "outputs": [
        {
          "output_type": "stream",
          "name": "stdout",
          "text": [
            "Number of genes that passed the normality test: 5629\n",
            "Number of genes that did not pass the normality test: 11655\n"
          ]
        }
      ],
      "source": [
        "# Initialize lists to store genes based on normality test results\n",
        "normalLung_diff = []  # List to store genes with normal distribution\n",
        "non_normalLung_diff = []  # List to store genes without normal distribution\n",
        "\n",
        "# Function for Shapiro-Wilk normality test\n",
        "def normality_test(data, alpha=0.05):\n",
        "    \"\"\"\n",
        "    Performs the Shapiro-Wilk normality test on a dataset.\n",
        "\n",
        "    Args:\n",
        "        data (array-like): The dataset to be tested for normality.\n",
        "        alpha (float, optional): The significance level for the test. Defaults to 0.05.\n",
        "\n",
        "    Returns:\n",
        "        None: Appends the gene and its data to normal_diff or non_normal_diff based on the test result.\n",
        "    \"\"\"\n",
        "    #calculating the test statistics and the p value with the Shapiro-Wilk function from library\n",
        "    shapiro_statistics, shapiro_p = stats.shapiro(data)\n",
        "\n",
        "    # Seeing the significance level with the p value output from the function\n",
        "    if shapiro_p > alpha:\n",
        "        normalLung_diff.append((gene, data))\n",
        "    elif shapiro_p < alpha:\n",
        "        non_normalLung_diff.append((gene, data))\n",
        "\n",
        "# Applying the normality test to each gene's differences\n",
        "for gene, differences in exprLung_differences:\n",
        "    normality_test(differences)\n",
        "\n",
        "# Now the genes are divided into normal and non-normal based on the Shapiro-Wilk test results\n",
        "\n",
        "# Count how many genes passed and did not pass the normality test and printing them\n",
        "print(f\"Number of genes that passed the normality test: {len(normalLung_diff)}\")\n",
        "print(f\"Number of genes that did not pass the normality test: {len(non_normalLung_diff)}\")\n"
      ]
    },
    {
      "cell_type": "markdown",
      "metadata": {
        "id": "oh7lxpFxTYPR"
      },
      "source": [
        "## <font color='#097770'>***IV. Identifying DEGs***</font>\n"
      ]
    },
    {
      "cell_type": "markdown",
      "source": [
        "\n",
        "### <font color='#f5beb4'>***Wilcoxon: Rank-Sum test***</font>\n",
        "---\n",
        "* Null Hypothesis (Ho): There is no difference in gene expression between normal and cancerous conditions.\n",
        "* Alternative Hypothesis (Ha): There is a difference in gene expression between normal and cancerous conditions."
      ],
      "metadata": {
        "id": "hh1qRfrLKIY2"
      }
    },
    {
      "cell_type": "code",
      "execution_count": null,
      "metadata": {
        "colab": {
          "base_uri": "https://localhost:8080/"
        },
        "id": "YqLf26D4YsbN",
        "outputId": "41f74e78-ef88-430a-d855-2c916e91544a"
      },
      "outputs": [
        {
          "output_type": "stream",
          "name": "stderr",
          "text": [
            "/usr/local/lib/python3.10/dist-packages/scipy/stats/_morestats.py:4088: UserWarning: Exact p-value calculation does not work if there are zeros. Switching to normal approximation.\n",
            "  warnings.warn(\"Exact p-value calculation does not work if there are \"\n"
          ]
        },
        {
          "output_type": "stream",
          "name": "stdout",
          "text": [
            "Number of significant genes: 4476\n",
            "Number of non significant genes: 1153\n"
          ]
        }
      ],
      "source": [
        "# Initialize lists to store the test results\n",
        "wilcoxon_significant = []\n",
        "wilcoxon_not_significant = []\n",
        "alpha = 0.05\n",
        "\n",
        "def wilcoxon_signed_rank_test(data, alpha=0.05):\n",
        "\n",
        "    \"\"\"\n",
        "    a function to do the signed rank wilcoxon test on the dataset.\n",
        "    as after the normality test, the data was partially normal and partially non normal\n",
        "\n",
        "    Arguments:\n",
        "        data : array like structure that takes in the data that will be tested\n",
        "        alpha : it's The significance level for the test. Defaults to 0.05.\n",
        "    Returns:\n",
        "    doesn't return a value, it just appends in the lists\n",
        "\n",
        "    \"\"\"\n",
        "\n",
        "    # Perform the Wilcoxon signed rank test\n",
        "    test_statistic, p_value = stats.wilcoxon(data)\n",
        "\n",
        "    # Check if the p-value is less than the significance level\n",
        "    if p_value < alpha:\n",
        "        wilcoxon_significant.append((gene, test_statistic, p_value))\n",
        "    elif p_value > alpha:\n",
        "        wilcoxon_not_significant.append((gene, test_statistic, p_value))\n",
        "\n",
        "# Applying the Wilcoxon signed rank test to each gene's differences that passed the normality test\n",
        "for gene, differences in normalLung_diff:\n",
        "    wilcoxon_signed_rank_test(differences)\n",
        "\n",
        "# wilcoxon_results shall contains the gene name, test statistic, and p-value for each gene\n",
        "\n",
        "# Check the number of significant genes after the Wilcoxon signed rank test\n",
        "significant_genes = sum(1 for _, _, p_value in wilcoxon_significant if p_value < alpha)\n",
        "non_significant_genes = sum(1 for _, _, p_value in wilcoxon_not_significant if p_value > alpha)\n",
        "print(f\"Number of significant genes: {significant_genes}\")\n",
        "print(f\"Number of non significant genes: {non_significant_genes}\")\n"
      ]
    },
    {
      "cell_type": "markdown",
      "metadata": {
        "id": "HJOzS6qe2QGA"
      },
      "source": [
        "## <font color='#097770'>***V. Exporting The Results***</font>"
      ]
    },
    {
      "cell_type": "markdown",
      "metadata": {
        "id": "B9bcOGWd2Yxy"
      },
      "source": [
        "### <font color='#f5beb4'>***Wilcoxon Null Hypothesis Test[ For Non-Normality ]***</font>"
      ]
    },
    {
      "cell_type": "code",
      "execution_count": null,
      "metadata": {
        "id": "qwPzcpBL2m38"
      },
      "outputs": [],
      "source": [
        "# Create a CSV file to store p-values\n",
        "with open('WilcoxonTest_Non-normal_Lung.csv', 'w', newline='') as csvfile:\n",
        "    fieldnames = ['Gene', 'p-value']\n",
        "    writer = csv.DictWriter(csvfile, fieldnames=fieldnames)\n",
        "\n",
        "    writer.writeheader()\n",
        "\n",
        "    for gene_name, p_value in failed_to_rejectLung_null_hypothesis:\n",
        "        writer.writerow({'Gene': gene_name, 'p-value': p_value})\n",
        "\n",
        "    for gene_name, p_value in rejectedLung_null_hypothesis:\n",
        "        writer.writerow({'Gene': gene_name, 'p-value': p_value})"
      ]
    },
    {
      "cell_type": "code",
      "execution_count": null,
      "metadata": {
        "id": "NIPEC7Sc5Myy"
      },
      "outputs": [],
      "source": [
        "# Create a TXT file to store p-values\n",
        "with open('WilcoxonTest_Non-normal_Lung.txt', 'w') as txtfile:\n",
        "    # Write headers\n",
        "    txtfile.write('Gene, p-value\\n')\n",
        "\n",
        "    # Write p-values for genes that failed to reject null hypothesis\n",
        "    for gene_name, p_value in failed_to_rejectLung_null_hypothesis:\n",
        "        txtfile.write(f'{gene_name}, {p_value}\\n')\n",
        "\n",
        "    # Write p-values for genes that rejected null hypothesis\n",
        "    for gene_name, p_value in rejectedLung_null_hypothesis:\n",
        "        txtfile.write(f'{gene_name}, {p_value}\\n')"
      ]
    },
    {
      "cell_type": "markdown",
      "metadata": {
        "id": "698yFPhiMMm9"
      },
      "source": [
        "# <font color='#edca82'>***Kidney Analysis***</font>"
      ]
    },
    {
      "cell_type": "markdown",
      "metadata": {
        "id": "2GEk4ta9ocWp"
      },
      "source": [
        "## <font color='#097770  '>***I. Extracting Datasets***</font>"
      ]
    },
    {
      "cell_type": "markdown",
      "metadata": {
        "id": "z3msd8koMQA5"
      },
      "source": [
        "### <font color='#f5beb4  '>***A. Normal Kidney Dataset***</font>"
      ]
    },
    {
      "cell_type": "code",
      "execution_count": null,
      "metadata": {
        "id": "Zp-7CeSoZf9L",
        "colab": {
          "base_uri": "https://localhost:8080/"
        },
        "outputId": "61a9cc38-ff2c-4260-b774-30907b8e1a5f"
      },
      "outputs": [
        {
          "output_type": "stream",
          "name": "stdout",
          "text": [
            "Shape of Normal Kidney Dataset: (19216, 70)\n",
            "\n",
            "----------------------------------------------\n",
            "\n",
            "A sample of the dataset:\n",
            "\n",
            "   Hugo_Symbol  Entrez_Gene_Id  TCGA-CJ-5680  TCGA-CZ-5453  TCGA-CW-5591  \\\n",
            "0    METTL21B           25895        237.86        155.50        309.83   \n",
            "1      VSTM2B          342865          0.00          0.00          0.38   \n",
            "2     TXNDC16           57544         92.05        199.85        171.45   \n",
            "3      ZBTB49          166793         87.65         69.03         25.35   \n",
            "4        SYT1            6857         27.05        138.10          0.73   \n",
            "\n",
            "   TCGA-A3-3387  TCGA-CZ-5982  TCGA-CJ-5679  TCGA-CZ-5984  TCGA-CJ-5681  ...  \\\n",
            "0        629.35        426.57        309.83        267.73        371.22  ...   \n",
            "1          0.00          0.91          0.38          2.48          2.53  ...   \n",
            "2         82.29        108.14        128.79        119.26        120.94  ...   \n",
            "3         35.76         40.07         68.55         84.63         68.07  ...   \n",
            "4         12.83         27.25         17.25         23.76         33.78  ...   \n",
            "\n",
            "   TCGA-CZ-5458  TCGA-CJ-6030  TCGA-CZ-5456  TCGA-B0-5402  TCGA-B0-5703  \\\n",
            "0         98.73        429.54        115.16        177.53        199.85   \n",
            "1          0.35          0.00          0.00          2.03          1.06   \n",
            "2        217.27        115.16        124.37         92.70        138.10   \n",
            "3         50.98         43.32         35.00         46.50         72.52   \n",
            "4         60.39         10.79         57.08         27.05         25.35   \n",
            "\n",
            "   TCGA-CZ-5987  TCGA-CZ-5466  TCGA-CJ-6033  TCGA-CZ-5461  TCGA-B2-5636  \n",
            "0        221.86        262.20        109.66        134.30        368.65  \n",
            "1          0.74          0.00          0.00          0.00          2.01  \n",
            "2        109.66        118.43         98.04        166.73        124.37  \n",
            "3         59.13         42.71         39.50         55.89         59.55  \n",
            "4         68.55         13.12         16.03         23.25         25.54  \n",
            "\n",
            "[5 rows x 70 columns]\n"
          ]
        }
      ],
      "source": [
        "# Define file paths for the normal datasets\n",
        "path_to_normal_txt = 'kirc-rsem-fpkm-tcga_paired.txt'\n",
        "\n",
        "# Load the data from the TXT files into DataFrames\n",
        "# We assume that the data is tab-separated (sep='\\t')\n",
        "normal_kidney_df = pd.read_csv(path_to_normal_txt, sep='\\t')\n",
        "\n",
        "# Print the shape (dimensions) of the Normal Kidney Dataset\n",
        "print(f'Shape of Normal Kidney Dataset: {normal_kidney_df.shape}\\n')\n",
        "\n",
        "# Separator line for clarity\n",
        "print('----------------------------------------------\\n')\n",
        "\n",
        "# Print a sample of the dataset (the first few rows)\n",
        "print(f'A sample of the dataset:\\n\\n {normal_kidney_df.head()}')\n",
        "\n",
        "# Now, the 'normal_kidney_df' DataFrame contains the data from the specified file"
      ]
    },
    {
      "cell_type": "markdown",
      "metadata": {
        "id": "ar9X4_cJMVid"
      },
      "source": [
        "### <font color='#f5beb4  '>***B. Cancerous Kidney Dataset***</font>"
      ]
    },
    {
      "cell_type": "code",
      "execution_count": null,
      "metadata": {
        "id": "RSDJttbAImdv",
        "colab": {
          "base_uri": "https://localhost:8080/"
        },
        "outputId": "9d618516-8671-4145-cf39-cb3d50686a55"
      },
      "outputs": [
        {
          "output_type": "stream",
          "name": "stdout",
          "text": [
            "Shape of Cancerous Kidney Dataset: (19216, 70)\n",
            "\n",
            "----------------------------------------------\n",
            "\n",
            "A sample of the dataset:\n",
            "\n",
            "   Hugo_Symbol  Entrez_Gene_Id  TCGA-CJ-5680  TCGA-CZ-5453  TCGA-CW-5591  \\\n",
            "0    METTL21B           25895        234.57        299.25        171.45   \n",
            "1      VSTM2B          342865          0.00          0.00          0.00   \n",
            "2     TXNDC16           57544         57.89        182.55        122.64   \n",
            "3      ZBTB49          166793         39.50         77.79         35.25   \n",
            "4        SYT1            6857          3.00          0.36          7.63   \n",
            "\n",
            "   TCGA-A3-3387  TCGA-CZ-5982  TCGA-CJ-5679  TCGA-CZ-5984  TCGA-CJ-5681  ...  \\\n",
            "0        285.03        265.87        463.65        348.71        195.72  ...   \n",
            "1          0.73          0.00          0.00          0.39        334.46  ...   \n",
            "2        100.13        189.02         69.52        133.36        129.69  ...   \n",
            "3         59.55         94.67         23.42         59.13         56.68  ...   \n",
            "4          3.14          0.33          1.62          1.11         29.06  ...   \n",
            "\n",
            "   TCGA-CZ-5458  TCGA-CJ-6030  TCGA-CZ-5456  TCGA-B0-5402  TCGA-B0-5703  \\\n",
            "0        231.32        244.57        551.56        493.56        361.04   \n",
            "1          0.00          0.00          0.38          0.39          0.00   \n",
            "2        181.28        153.34        103.69        212.78        157.68   \n",
            "3         53.19         45.21         46.84         70.51         64.34   \n",
            "4          2.51          8.19          2.51          1.83          0.39   \n",
            "\n",
            "   TCGA-CZ-5987  TCGA-CZ-5466  TCGA-CJ-6033  TCGA-CZ-5461  TCGA-B2-5636  \n",
            "0        400.71        444.72        141.02        320.80        358.54  \n",
            "1          0.00          0.40          3.00          0.00          0.00  \n",
            "2         48.18         97.36         78.34        255.00        199.85  \n",
            "3         51.35         60.82         41.22         61.68         65.72  \n",
            "4          0.00          3.06          0.36          1.06         17.38  \n",
            "\n",
            "[5 rows x 70 columns]\n"
          ]
        }
      ],
      "source": [
        "# Define file paths for the cancerous datasets\n",
        "path_to_cancerous_txt = 'kirc-rsem-fpkm-tcga-t_paired.txt'\n",
        "\n",
        "# Load the data from the TXT files into DataFrames\n",
        "# We assume that the data is tab-separated (sep='\\t')\n",
        "cancerous_kidney_df = pd.read_csv(path_to_cancerous_txt, sep='\\t')\n",
        "\n",
        "# Print the shape (dimensions) of the Cancerous Kidney Dataset\n",
        "print(f'Shape of Cancerous Kidney Dataset: {cancerous_kidney_df.shape}\\n')\n",
        "\n",
        "# Separator line for clarity\n",
        "print('----------------------------------------------\\n')\n",
        "\n",
        "# Print a sample of the dataset (the first few rows)\n",
        "print(f'A sample of the dataset:\\n\\n {cancerous_kidney_df.head()}')\n",
        "\n",
        "# Now, the 'cancerous_kidney_df' DataFrame contains the data from the specified file"
      ]
    },
    {
      "cell_type": "markdown",
      "metadata": {
        "id": "mwVQtdNUtTCY"
      },
      "source": [
        "## <font color='#097770'>***II. Calculating Difference Between Normal and Cancerous Gene Expression Levels***</font>"
      ]
    },
    {
      "cell_type": "markdown",
      "metadata": {
        "id": "QkMo6nDO_mfX"
      },
      "source": [
        "### <font color='#f5beb4'>***A. Concatenating Normal and Cancerous Gene Expression Levels***</font>"
      ]
    },
    {
      "cell_type": "code",
      "execution_count": null,
      "metadata": {
        "colab": {
          "base_uri": "https://localhost:8080/"
        },
        "id": "EL7JDVovtbXI",
        "outputId": "36496415-8bc3-494c-f150-976e1e649cb3"
      },
      "outputs": [
        {
          "output_type": "stream",
          "name": "stdout",
          "text": [
            "Printing a sample of our normal and cancerous expression levels concatenated with their corresponding gene:\n",
            "\n",
            "Gene: METTL21B\n",
            "Normal: [237.86 155.5  309.83 629.35 426.57 309.83 267.73 371.22 175.07 267.73\n",
            " 155.5  173.85 211.31 283.05 107.38 157.68 182.55 140.04 256.78 187.71\n",
            " 104.42 285.03 314.17 346.29 275.28 136.19 325.29 156.59 124.37 166.73\n",
            " 460.44 251.48 176.29 164.42 260.38 186.4  158.79 269.6   69.03 177.53\n",
            " 297.17 232.94 289.02 117.6  301.33 231.32 249.73 132.44 414.87 190.34\n",
            " 191.67 255.   191.67 154.42 155.5  163.28 136.19 214.27  98.73 429.54\n",
            " 115.16 177.53 199.85 221.86 262.2  109.66 134.3  368.65]\n",
            "Cancerous: [234.57 299.25 171.45 285.03 265.87 463.65 348.71 195.72 115.16 348.71\n",
            " 149.12 100.13 293.07 228.13 281.09 480.04 150.17 110.43 211.31 255.\n",
            " 122.64 295.11 379.04 275.28 325.29 177.53 279.14 244.57 172.65 329.84\n",
            " 244.57 301.33 332.14 423.61 295.11 316.37 220.32 249.73 289.02 305.55\n",
            " 392.44 417.77 211.31 241.19 139.07 256.78 111.99 441.64 483.38 167.9\n",
            " 209.84 209.84 503.95 353.59 251.48 232.94 480.04 277.2  231.32 244.57\n",
            " 551.56 493.56 361.04 400.71 444.72 141.02 320.8  358.54] \n",
            "\n",
            "Gene: VSTM2B\n",
            "Normal: [0.   0.   0.38 0.   0.91 0.38 2.48 2.53 0.77 1.62 0.35 0.   0.   0.52\n",
            " 0.   0.   0.79 0.   0.   0.   0.34 0.85 0.91 0.   0.38 0.   0.   0.\n",
            " 0.   0.   0.   0.   0.   0.37 1.17 0.   0.   0.   0.37 0.   0.   0.41\n",
            " 0.   0.   0.39 2.43 0.75 1.13 0.4  0.35 0.   2.78 0.   0.73 0.   0.\n",
            " 0.   1.2  0.35 0.   0.   2.03 1.06 0.74 0.   0.   0.   2.01]\n",
            "Cancerous: [  0.     0.     0.     0.73   0.     0.     0.39 334.46   0.     0.\n",
            "   0.72   0.     0.     0.39   0.     0.     0.     0.71   0.     0.\n",
            "   0.77   0.35   0.73   0.     0.     0.     0.     0.     0.35   0.\n",
            "   0.     0.     0.37   0.     0.     0.     0.8    0.     0.     0.\n",
            "   0.     0.     0.     0.     0.     0.     0.     0.     0.     0.74\n",
            "   0.     0.     0.     0.     0.     0.     0.     0.     0.     0.\n",
            "   0.38   0.39   0.     0.     0.4    3.     0.     0.  ] \n",
            "\n",
            "Gene: TXNDC16\n",
            "Normal: [ 92.05 199.85 171.45  82.29 108.14 128.79 119.26 120.94 133.36 135.24\n",
            " 129.69 212.78 122.64 108.14 150.17 140.04 144.01  92.7  120.94 181.28\n",
            " 107.38 102.97 112.77 117.6  107.38 156.59 135.24 167.9  125.24 159.9\n",
            "  89.51 127.   211.31 191.67 120.94 166.73 108.14  78.34 106.63 206.94\n",
            " 125.24 182.55 134.3  217.27  92.7  165.57 111.21 153.34 102.25 171.45\n",
            " 165.57  92.05 148.09 242.88 107.38  81.71 170.25 170.25 217.27 115.16\n",
            " 124.37  92.7  138.1  109.66 118.43  98.04 166.73 124.37]\n",
            "Cancerous: [ 57.89 182.55 122.64 100.13 189.02  69.52 133.36 129.69  50.63 221.86\n",
            "  48.52  39.5  137.14  57.08 171.45 202.66 105.89  38.4   73.03 190.34\n",
            "  37.05 125.24 102.97 165.57 173.85 155.5  223.41  73.54  78.34 224.97\n",
            "  63.89 131.51 271.48 202.66 102.25  98.04 112.77  87.65 100.13 262.2\n",
            " 153.34 241.19 153.34 191.67  55.1   90.14 102.25 161.02 130.6   64.8\n",
            " 163.28 110.43 202.66 231.32 177.53 124.37 244.57 153.34 181.28 153.34\n",
            " 103.69 212.78 157.68  48.18  97.36  78.34 255.   199.85] \n",
            "\n",
            "Gene: ZBTB49\n",
            "Normal: [ 87.65  69.03  25.35  35.76  40.07  68.55  84.63  68.07  60.39  64.8\n",
            "  54.72  46.84 104.42  48.87  25.35  67.12  98.73  53.95  52.08  54.72\n",
            "  50.63  33.3   59.55  41.22  42.11  41.22  67.12  37.05  29.27  90.14\n",
            "  34.75  56.28  50.98  49.91  47.5   51.71  87.65  43.94  30.34  54.72\n",
            "  34.02  60.39  36.27  80.57  46.5   65.26  73.03  71.    43.32  40.64\n",
            "  49.91  40.36  56.68  57.08  31.9   44.89  71.5   48.18  50.98  43.32\n",
            "  35.    46.5   72.52  59.13  42.71  39.5   55.89  59.55]\n",
            "Cancerous: [39.5  77.79 35.25 59.55 94.67 23.42 59.13 56.68 53.95 69.03 35.76 52.08\n",
            " 41.52 54.33 50.63 73.03 55.89 49.56 54.33 68.07 27.64 59.55 53.19 42.11\n",
            " 68.07 60.39 82.87 58.3  59.55 88.26 90.77 58.71 58.71 64.34 42.71 45.85\n",
            " 53.19 46.84 98.04 73.54 56.28 55.1  53.95 85.82 38.95 65.26 84.04 35.5\n",
            " 77.79 44.25 46.5  45.21 62.12 35.   49.21 40.93 51.35 70.51 53.19 45.21\n",
            " 46.84 70.51 64.34 51.35 60.82 41.22 61.68 65.72] \n",
            "\n",
            "Gene: SYT1\n",
            "Normal: [ 27.05 138.1    0.73  12.83  27.25  17.25  23.76  33.78  26.28  29.48\n",
            "  30.34  90.14  24.63  30.56  92.7   26.67  21.47  20.86  30.78  25.17\n",
            "  11.55  24.28  40.93  13.93  13.52 332.14  24.46  31.67 211.31  53.57\n",
            "  13.32  27.44 137.14  58.3   35.5   59.97  22.75  22.43  22.43  71.\n",
            "  19.11  48.52  29.48 264.03  12.27  88.26  27.64  34.75  25.54  93.35\n",
            " 100.83  26.67  24.63 101.54  63.89  12.93  24.11  50.27  60.39  10.79\n",
            "  57.08  27.05  25.35  68.55  13.12  16.03  23.25  25.54]\n",
            "Cancerous: [  3.     0.36   7.63   3.14   0.33   1.62   1.11  29.06   2.63  23.25\n",
            "   0.69   0.68   1.57   0.75   1.01  13.93   0.67 181.28   4.21   3.53\n",
            "   1.1    3.32   1.39   1.03   2.23   3.08   2.51   2.01   2.97   4.9\n",
            "  23.76   2.23   2.12   2.32   3.99   1.89  11.47   1.35   2.07  16.03\n",
            "   3.14   4.1    1.68   6.01   7.     0.71   7.75   2.36   7.69   2.51\n",
            "  36.01   4.13   4.78   1.89   4.98   1.01   1.45   1.41   2.51   8.19\n",
            "   2.51   1.83   0.39   0.     3.06   0.36   1.06  17.38] \n",
            "\n",
            "Shape of exprKidney_data: 19216 genes x 68 values per gene\n"
          ]
        }
      ],
      "source": [
        "# Get the list of all genes\n",
        "allGenes_kidney = normal_kidney_df['Hugo_Symbol'].unique()\n",
        "\n",
        "# Initialize a dictionary to store expression levels with gene names as keys\n",
        "exprKidney_data = {}\n",
        "\n",
        "# Iterate through all genes\n",
        "for gene in allGenes_kidney:\n",
        "    # Get the expression levels for the current gene\n",
        "    normalKidney_expression = normal_kidney_df[normal_kidney_df['Hugo_Symbol'] == gene].iloc[:, 2:].values.flatten()\n",
        "    cancerousKidney_expression = cancerous_kidney_df[cancerous_kidney_df['Hugo_Symbol'] == gene].iloc[:, 2:].values.flatten()\n",
        "\n",
        "    # Store the expression levels in the dictionary with the gene name as the key\n",
        "    exprKidney_data[gene] = {\n",
        "        'Normal': normalKidney_expression,\n",
        "        'Cancerous': cancerousKidney_expression\n",
        "    }\n",
        "\n",
        "# Now exprKidney_data is a dictionary where each key is a gene name, and the value is a dictionary\n",
        "# containing 'Normal' and 'Cancerous' expression levels as NumPy arrays\n",
        "# You can access the data for a specific gene using its name as the key\n",
        "\n",
        "print('Printing a sample of our normal and cancerous expression levels concatenated with their corresponding gene:\\n')\n",
        "\n",
        "# Iterate through the first five genes and their expression data\n",
        "for i, (gene, expression_data) in enumerate(exprKidney_data.items()):\n",
        "    if i >= 5:  # Stop after the first five genes\n",
        "        break\n",
        "    print(f'Gene: {gene}')  # Print the gene name\n",
        "    print('Normal:', expression_data['Normal'])  # Print normal expression levels\n",
        "    print('Cancerous:', expression_data['Cancerous'],'\\n')  # Print cancerous expression levels\n",
        "\n",
        "numValues_per_gene_kidney = len(next(iter(exprKidney_data.values()))['Normal'])\n",
        "\n",
        "# Print the shape of exprKidney_data\n",
        "print(f'Shape of exprKidney_data: {len(exprKidney_data)} genes x {numValues_per_gene_kidney} values per gene')"
      ]
    },
    {
      "cell_type": "markdown",
      "metadata": {
        "id": "vYzJ0m8dnzKU"
      },
      "source": [
        "### <font color='#f5beb4'>***B. Handling Null Values***</font>"
      ]
    },
    {
      "cell_type": "code",
      "execution_count": null,
      "metadata": {
        "id": "uHB6MTRZn4XI"
      },
      "outputs": [],
      "source": [
        "# Initialize a list to store the indices of genes with more than 50% zeros\n",
        "genes_with_more_than_50_percent_zeros_kidney = []\n",
        "\n",
        "# Iterate through all genes\n",
        "for i, gene in enumerate(exprKidney_data):\n",
        "    # Get the normal expression levels for the current gene\n",
        "    normal_expression = exprKidney_data[gene]['Normal']\n",
        "    cancerous_expression = exprKidney_data[gene]['Cancerous']\n",
        "\n",
        "    # Count the number of zeros for normal and cancerous expressions\n",
        "    num_zeros_normal = len(normal_expression[normal_expression == 0])\n",
        "    num_zeros_cancerous = len(cancerous_expression[cancerous_expression == 0])\n",
        "\n",
        "    # Calculate the percentage of zeros for normal and cancerous expressions\n",
        "    percentage_zerosNormal = (num_zeros_normal / len(normal_expression)) * 100\n",
        "    percentage_zerosCancerous = (num_zeros_cancerous / len(cancerous_expression)) * 100\n",
        "\n",
        "    # Check if the percentage of zeros is more than 50% for both normal and cancerous expressions\n",
        "    if percentage_zerosNormal >= 50 or percentage_zerosCancerous >= 50:\n",
        "        genes_with_more_than_50_percent_zeros_kidney.append(i)"
      ]
    },
    {
      "cell_type": "code",
      "execution_count": null,
      "metadata": {
        "colab": {
          "base_uri": "https://localhost:8080/"
        },
        "id": "KloOYtoHn6kP",
        "outputId": "6ea5459d-7b1e-41d5-e373-93c8b5e58f1f"
      },
      "outputs": [
        {
          "output_type": "stream",
          "name": "stdout",
          "text": [
            "Number of filtered genes: 17034\n",
            "Number of removed genes: 2182 \n",
            "\n",
            "----------------------------------------------\n",
            "\n",
            "A sample of first 10 genes removed for having null values greater than 50%:\n",
            "\n",
            "Gene Name: VSTM2B, Index in exprKidney_data (1-based): 2\n",
            "Gene Name: MRGPRX2, Index in exprKidney_data (1-based): 10\n",
            "Gene Name: INSL5, Index in exprKidney_data (1-based): 19\n",
            "Gene Name: RP11-15E18.4, Index in exprKidney_data (1-based): 23\n",
            "Gene Name: C3orf22, Index in exprKidney_data (1-based): 30\n",
            "Gene Name: CXorf28, Index in exprKidney_data (1-based): 32\n",
            "Gene Name: RP11-865B13.1, Index in exprKidney_data (1-based): 33\n",
            "Gene Name: AADACL2, Index in exprKidney_data (1-based): 34\n",
            "Gene Name: KIAA1658, Index in exprKidney_data (1-based): 37\n",
            "Gene Name: ALPPL2, Index in exprKidney_data (1-based): 50\n"
          ]
        }
      ],
      "source": [
        "# Filter out genes with more than 50% zeros from exprKidney_data\n",
        "allGenes_kidney_filtered = [gene for i, gene in enumerate(exprKidney_data) if i not in genes_with_more_than_50_percent_zeros_kidney]\n",
        "\n",
        "# Get the list of genes that were filtered out\n",
        "filteredGenes_Kidney = [gene for i, gene in enumerate(exprKidney_data) if i in genes_with_more_than_50_percent_zeros_kidney]\n",
        "\n",
        "# Create new dictionaries to store the filtered and removed data\n",
        "exprKidney_data_filteredGenes = {gene: exprKidney_data[gene] for gene in allGenes_kidney_filtered}\n",
        "exprKidney_data_removedGenes = {gene: exprKidney_data[gene] for gene in filteredGenes_Kidney}\n",
        "\n",
        "# Print the number of filtered and removed genes\n",
        "print(f\"Number of filtered genes: {len(exprKidney_data_filteredGenes)}\")\n",
        "print(f\"Number of removed genes: {len(exprKidney_data_removedGenes)}\",\"\\n\")\n",
        "\n",
        "# Separator line for clarity\n",
        "print('----------------------------------------------\\n')\n",
        "\n",
        "# Printing out a sample of removed genes\n",
        "print('A sample of first 10 genes removed for having null values greater than 50%:\\n')\n",
        "\n",
        "# Get the list of genes in exprKidney_data_removedGenes\n",
        "genes_in_removedGenes = list(exprKidney_data_removedGenes.keys())\n",
        "\n",
        "# Iterate over the first ten genes in exprKidney_data_removedGenes\n",
        "for i, gene in enumerate(genes_in_removedGenes[:10]):\n",
        "    if i >= 10:\n",
        "        break\n",
        "    index_in_exprKidney_data = list(exprKidney_data.keys()).index(gene)\n",
        "    print(f\"Gene Name: {gene}, Index in exprKidney_data (1-based): {index_in_exprKidney_data+1}\")\n"
      ]
    },
    {
      "cell_type": "markdown",
      "metadata": {
        "id": "9IYoNzIqBajH"
      },
      "source": [
        "### <font color='#f5beb4'>***C. Calculating Differences Between Normal and Cancerous Gene Expression Levels***</font>"
      ]
    },
    {
      "cell_type": "code",
      "execution_count": null,
      "metadata": {
        "colab": {
          "base_uri": "https://localhost:8080/"
        },
        "id": "gkmxoLWiBk99",
        "outputId": "67fad424-bd3b-4a2b-be12-641628560996"
      },
      "outputs": [
        {
          "output_type": "stream",
          "name": "stdout",
          "text": [
            "Printing a sample of difference between normal and cancerous expression levels concatenated with their corresponding gene:\n",
            "\n",
            "Gene: METTL21B\n",
            "Differences: [  -3.29  143.75 -138.38 -344.32 -160.7   153.82   80.98 -175.5   -59.91\n",
            "   80.98   -6.38  -73.72   81.76  -54.92  173.71  322.36  -32.38  -29.61\n",
            "  -45.47   67.29   18.22   10.08   64.87  -71.01   50.01   41.34  -46.15\n",
            "   87.98   48.28  163.11 -215.87   49.85  155.85  259.19   34.73  129.97\n",
            "   61.53  -19.87  219.99  128.02   95.27  184.83  -77.71  123.59 -162.26\n",
            "   25.46 -137.74  309.2    68.51  -22.44   18.17  -45.16  312.28  199.17\n",
            "   95.98   69.66  343.85   62.93  132.59 -184.97  436.4   316.03  161.19\n",
            "  178.85  182.52   31.36  186.5   -10.11] \n",
            "\n",
            "Gene: TXNDC16\n",
            "Differences: [ -34.16  -17.3   -48.81   17.84   80.88  -59.27   14.1     8.75  -82.73\n",
            "   86.62  -81.17 -173.28   14.5   -51.06   21.28   62.62  -38.12  -54.3\n",
            "  -47.91    9.06  -70.33   22.27   -9.8    47.97   66.47   -1.09   88.17\n",
            "  -94.36  -46.9    65.07  -25.62    4.51   60.17   10.99  -18.69  -68.69\n",
            "    4.63    9.31   -6.5    55.26   28.1    58.64   19.04  -25.6   -37.6\n",
            "  -75.43   -8.96    7.68   28.35 -106.65   -2.29   18.38   54.57  -11.56\n",
            "   70.15   42.66   74.32  -16.91  -35.99   38.18  -20.68  120.08   19.58\n",
            "  -61.48  -21.07  -19.7    88.27   75.48] \n",
            "\n",
            "Gene: ZBTB49\n",
            "Differences: [-48.15   8.76   9.9   23.79  54.6  -45.13 -25.5  -11.39  -6.44   4.23\n",
            " -18.96   5.24 -62.9    5.46  25.28   5.91 -42.84  -4.39   2.25  13.35\n",
            " -22.99  26.25  -6.36   0.89  25.96  19.17  15.75  21.25  30.28  -1.88\n",
            "  56.02   2.43   7.73  14.43  -4.79  -5.86 -34.46   2.9   67.7   18.82\n",
            "  22.26  -5.29  17.68   5.25  -7.55   0.    11.01 -35.5   34.47   3.61\n",
            "  -3.41   4.85   5.44 -22.08  17.31  -3.96 -20.15  22.33   2.21   1.89\n",
            "  11.84  24.01  -8.18  -7.78  18.11   1.72   5.79   6.17] \n",
            "\n",
            "Gene: SYT1\n",
            "Differences: [ -24.05 -137.74    6.9    -9.69  -26.92  -15.63  -22.65   -4.72  -23.65\n",
            "   -6.23  -29.65  -89.46  -23.06  -29.81  -91.69  -12.74  -20.8   160.42\n",
            "  -26.57  -21.64  -10.45  -20.96  -39.54  -12.9   -11.29 -329.06  -21.95\n",
            "  -29.66 -208.34  -48.67   10.44  -25.21 -135.02  -55.98  -31.51  -58.08\n",
            "  -11.28  -21.08  -20.36  -54.97  -15.97  -44.42  -27.8  -258.02   -5.27\n",
            "  -87.55  -19.89  -32.39  -17.85  -90.84  -64.82  -22.54  -19.85  -99.65\n",
            "  -58.91  -11.92  -22.66  -48.86  -57.88   -2.6   -54.57  -25.22  -24.96\n",
            "  -68.55  -10.06  -15.67  -22.19   -8.16] \n",
            "\n",
            "Gene: OPCML\n",
            "Differences: [-1.20300e+01  1.13770e+02  1.61500e+01 -3.55500e+01  2.31990e+02\n",
            "  3.56930e+02  3.25000e+01 -1.93500e+01 -5.36100e+01  1.27540e+02\n",
            " -4.12700e+01 -2.99100e+01  2.02100e+01  3.10000e-01 -2.34700e+01\n",
            "  1.20931e+03 -1.97900e+01 -1.00500e+01 -2.10500e+01 -1.05000e+01\n",
            " -2.10800e+01 -2.80800e+01 -1.22120e+02 -7.76000e+00  4.84330e+02\n",
            " -2.95300e+01  1.08760e+02 -2.34500e+01 -3.35000e+00 -4.88500e+01\n",
            " -3.10100e+01 -5.74200e+01 -2.40000e-01  1.17070e+02  3.18000e+00\n",
            " -2.90100e+01 -3.22000e+00  2.74250e+02 -7.97000e+00  2.75100e+01\n",
            "  1.13900e+01 -5.11300e+01  2.06100e+01  9.33000e+00 -1.73500e+01\n",
            " -6.61000e+00 -3.16000e+01 -2.64200e+01 -3.54500e+01 -1.22620e+02\n",
            " -4.42100e+01  2.56740e+02  3.80800e+01 -2.43000e+00  2.70600e+02\n",
            " -1.61000e+00  6.31800e+01  4.54900e+01 -2.49700e+01 -1.36900e+01\n",
            " -1.85000e+01  3.06670e+02  2.71420e+02 -2.71700e+01 -3.48000e+00\n",
            " -2.61000e+01  8.93100e+01  8.97800e+01] \n",
            "\n",
            "Shape of exprKidney_differences: 17034 genes x 68 values per gene\n"
          ]
        }
      ],
      "source": [
        "# Initialize a list to store the differences\n",
        "exprKidney_differences = []\n",
        "\n",
        "# Iterate through the genes\n",
        "for gene, expression_data in exprKidney_data_filteredGenes.items():\n",
        "    # Get the normal and cancerous expression levels\n",
        "    normal_levels = expression_data['Normal']\n",
        "    cancerous_levels = expression_data['Cancerous']\n",
        "\n",
        "    # Calculate the differences for each gene\n",
        "    differences = cancerous_levels - normal_levels\n",
        "\n",
        "    # Add the differences to the list\n",
        "    exprKidney_differences.append((gene, differences))\n",
        "\n",
        "# Now exprKidney_differences contains the gene name and the corresponding differences for each gene\n",
        "\n",
        "print('Printing a sample of difference between normal and cancerous expression levels concatenated with their corresponding gene:\\n')\n",
        "\n",
        "# Print the first five lists\n",
        "for gene, differences in exprKidney_differences[:5]:\n",
        "    print(f'Gene: {gene}')  # Print the gene name\n",
        "    print('Differences:', differences,'\\n')  # Print the list of differences for the gene\n",
        "\n",
        "# Check the shape of exprKidney_differences\n",
        "valPerGene_kidney = len(exprKidney_differences[0][1])\n",
        "\n",
        "print(f'Shape of exprKidney_differences: {len(exprKidney_differences)} genes x {valPerGene_kidney} values per gene')"
      ]
    },
    {
      "cell_type": "markdown",
      "metadata": {
        "id": "O6FzetC0k3ZL"
      },
      "source": [
        "## <font color='#097770'>***III. Normality Test [Wilk Shapiro Test]***</font>"
      ]
    },
    {
      "cell_type": "code",
      "execution_count": null,
      "metadata": {
        "colab": {
          "base_uri": "https://localhost:8080/"
        },
        "id": "Pd-vJkw5PqKB",
        "outputId": "af41db72-1cba-48b2-b3ad-3c82d8f73ee6"
      },
      "outputs": [
        {
          "output_type": "stream",
          "name": "stdout",
          "text": [
            "Number of genes that passed the normality test: 6504\n",
            "Number of genes that did not pass the normality test: 10530\n"
          ]
        }
      ],
      "source": [
        "# Initialize lists to store genes based on normality test results\n",
        "normalKidney_diff = []  # List to store genes with normal distribution\n",
        "non_normalKidney_diff = []  # List to store genes without normal distribution\n",
        "\n",
        "# Function for Shapiro-Wilk normality test\n",
        "def normality_test(data, alpha=0.05):\n",
        "    \"\"\"\n",
        "    Performs the Shapiro-Wilk normality test on a dataset.\n",
        "\n",
        "    Args:\n",
        "        data (array-like): The dataset to be tested for normality.\n",
        "        alpha (float, optional): The significance level for the test. Defaults to 0.05.\n",
        "\n",
        "    Returns:\n",
        "        None: Appends the gene and its data to normal_diff or non_normal_diff based on the test result.\n",
        "    \"\"\"\n",
        "    #calculating the test statistics and the p value with the Shapiro-Wilk function from library\n",
        "    shapiro_statistics, shapiro_p = stats.shapiro(data)\n",
        "\n",
        "    # Seeing the significance level with the p value output from the function\n",
        "    if shapiro_p > alpha:\n",
        "        normalKidney_diff.append((gene, data))\n",
        "    elif shapiro_p < alpha:\n",
        "        non_normalKidney_diff.append((gene, data))\n",
        "\n",
        "# Applying the normality test to each gene's differences\n",
        "for gene, differences in exprKidney_differences:\n",
        "    normality_test(differences)\n",
        "\n",
        "# Now the genes are divided into normal and non-normal based on the Shapiro-Wilk test results\n",
        "\n",
        "# Count how many genes passed and did not pass the normality test and printing them\n",
        "print(f\"Number of genes that passed the normality test: {len(normalKidney_diff)}\")\n",
        "print(f\"Number of genes that did not pass the normality test: {len(non_normalKidney_diff)}\")"
      ]
    },
    {
      "cell_type": "markdown",
      "metadata": {
        "id": "rj2tXCkQsm-S"
      },
      "source": [
        "## <font color='#097770'>***IV. Identifying DEGs***</font>\n",
        "\n"
      ]
    },
    {
      "cell_type": "markdown",
      "source": [
        "\n",
        "### <font color='#f5beb4'>***Wilcoxon: Rank-Sum test***</font>\n",
        "---\n",
        "* Null Hypothesis (Ho): There is no difference in gene expression between normal and cancerous conditions.\n",
        "* Alternative Hypothesis (Ha): There is a difference in gene expression between normal and cancerous conditions."
      ],
      "metadata": {
        "id": "3V8ppxFKKL0v"
      }
    },
    {
      "cell_type": "code",
      "execution_count": null,
      "metadata": {
        "colab": {
          "base_uri": "https://localhost:8080/"
        },
        "id": "AFq2EaVLsvoy",
        "outputId": "9d5f196c-af4f-4fec-f1ed-5914dc7cb980"
      },
      "outputs": [
        {
          "output_type": "stream",
          "name": "stdout",
          "text": [
            "Number of significant genes: 13240\n",
            "Number of non significant genes: 3794\n"
          ]
        }
      ],
      "source": [
        "# Initialize lists to store the test results\n",
        "wilcoxon_significant = []\n",
        "wilcoxon_not_significant = []\n",
        "alpha = 0.05\n",
        "\n",
        "def wilcoxon_signed_rank_test(data, alpha=0.05):\n",
        "\n",
        "    \"\"\"\n",
        "    a function to do the signed rank wilcoxon test on the dataset.\n",
        "    as after the normality test, the data was partially normal and partially non normal\n",
        "\n",
        "    Arguments:\n",
        "        data : array like structure that takes in the data that will be tested\n",
        "        alpha : it's The significance level for the test. Defaults to 0.05.\n",
        "    Returns:\n",
        "     doesn't return a value, it just appends in the lists\n",
        "\n",
        "\n",
        "    \"\"\"\n",
        "\n",
        "    # Perform the Wilcoxon signed rank test\n",
        "    test_statistic, p_value = stats.wilcoxon(data)\n",
        "\n",
        "    # Check if the p-value is less than the significance level\n",
        "    if p_value < alpha:\n",
        "        wilcoxon_significant.append((gene, test_statistic, p_value))\n",
        "    elif p_value > alpha:\n",
        "        wilcoxon_not_significant.append((gene, test_statistic, p_value))\n",
        "\n",
        "# Applying the Wilcoxon signed rank test to each gene's differences that passed the normality test\n",
        "for gene, differences in exprKidney_differences:\n",
        "    wilcoxon_signed_rank_test(differences)\n",
        "\n",
        "# wilcoxon_results shall contains the gene name, test statistic, and p-value for each gene\n",
        "\n",
        "# Check the number of significant genes after the Wilcoxon signed rank test\n",
        "significant_genes = sum(1 for _, _, p_value in wilcoxon_significant if p_value < alpha)\n",
        "non_significant_genes = sum(1 for _, _, p_value in wilcoxon_not_significant if p_value > alpha)\n",
        "print(f\"Number of significant genes: {significant_genes}\")\n",
        "print(f\"Number of non significant genes: {non_significant_genes}\")\n"
      ]
    },
    {
      "cell_type": "markdown",
      "metadata": {
        "id": "qstUnzMx3UAN"
      },
      "source": [
        "## <font color='#097770'>***V. Exporting The Results***</font>"
      ]
    },
    {
      "cell_type": "markdown",
      "metadata": {
        "id": "tR24ah0a3X-I"
      },
      "source": [
        "### <font color='#f5beb4'>***Wilcoxon Null Hypothesis Test[ For Non-Normality ]***</font>"
      ]
    },
    {
      "cell_type": "code",
      "execution_count": null,
      "metadata": {
        "id": "gJGtStpR3fV2"
      },
      "outputs": [],
      "source": [
        "# Create a CSV file to store p-values\n",
        "with open('WilcoxonTest_Non-normal_Kidney.csv', 'w', newline='') as csvfile:\n",
        "    fieldnames = ['Gene', 'p-value']\n",
        "    writer = csv.DictWriter(csvfile, fieldnames=fieldnames)\n",
        "\n",
        "    writer.writeheader()\n",
        "\n",
        "    for gene_name, p_value in failed_to_rejectKidney_null_hypothesis:\n",
        "        writer.writerow({'Gene': gene_name, 'p-value': p_value})\n",
        "\n",
        "    for gene_name, p_value in rejectedKidney_null_hypothesis:\n",
        "        writer.writerow({'Gene': gene_name, 'p-value': p_value})"
      ]
    },
    {
      "cell_type": "code",
      "execution_count": null,
      "metadata": {
        "id": "07WVUFlq5qGQ"
      },
      "outputs": [],
      "source": [
        "# Create a TXT file to store p-values\n",
        "with open('WilcoxonTest_Non-normal_Kidney.txt', 'w') as txtfile:\n",
        "    # Write headers\n",
        "    txtfile.write('Gene, p-value\\n')\n",
        "\n",
        "    # Write p-values for genes that failed to reject null hypothesis\n",
        "    for gene_name, p_value in failed_to_rejectKidney_null_hypothesis:\n",
        "        txtfile.write(f'{gene_name}, {p_value}\\n')\n",
        "\n",
        "    # Write p-values for genes that rejected null hypothesis\n",
        "    for gene_name, p_value in rejectedKidney_null_hypothesis:\n",
        "        txtfile.write(f'{gene_name}, {p_value}\\n')"
      ]
    },
    {
      "cell_type": "markdown",
      "metadata": {
        "id": "8YLWcSXQ3fqE"
      },
      "source": [
        "### <font color='#f5beb4'>***T-test Null Hypothesis Test [ For Normality ]***</font>"
      ]
    },
    {
      "cell_type": "code",
      "execution_count": null,
      "metadata": {
        "id": "f6NFF6ja3gi7"
      },
      "outputs": [],
      "source": [
        "# Create a CSV file to store p-values and results\n",
        "with open('T-test_Normal_Kidney.csv', 'w', newline='') as csvfile:\n",
        "    fieldnames = ['Gene', 'T-Statistic', 'P-Value', 'Result']\n",
        "    writer = csv.DictWriter(csvfile, fieldnames=fieldnames)\n",
        "\n",
        "    writer.writeheader()\n",
        "\n",
        "    for gene_name, t_statistic, p_value, result in gene_resultsKidney:\n",
        "        writer.writerow({'Gene': gene_name, 'T-Statistic': t_statistic, 'P-Value': p_value, 'Result': result})\n",
        "\n",
        "\n",
        "# Create a text file to store p-values and results\n",
        "with open('gene_results.txt', 'w') as file:\n",
        "    file.write(\"Gene Results:\\n\")\n",
        "    for gene_name, t_statistic, p_value, result in gene_resultsKidney:\n",
        "        file.write(f\"Gene: {gene_name}\\n\")\n",
        "        file.write(f\"T-Statistic: {t_statistic:.4f}\\n\")\n",
        "        file.write(f\"P-Value: {p_value:.4f}\\n\")\n",
        "        file.write(f\"Result: {result}\\n\\n\")"
      ]
    },
    {
      "cell_type": "code",
      "execution_count": null,
      "metadata": {
        "id": "SLvnqF6D3qSA"
      },
      "outputs": [],
      "source": [
        "# Create a text file to store p-values and results\n",
        "with open('T-test_Normal_Kidney.txt', 'w') as file:\n",
        "    file.write(\"Gene Results:\\n\")\n",
        "    for gene_name, t_statistic, p_value, result in gene_resultsKidney:\n",
        "        file.write(f\"Gene: {gene_name}\\n\")\n",
        "        file.write(f\"T-Statistic: {t_statistic:.4f}\\n\")\n",
        "        file.write(f\"P-Value: {p_value:.4f}\\n\")\n",
        "        file.write(f\"Result: {result}\\n\\n\")"
      ]
    }
  ],
  "metadata": {
    "colab": {
      "collapsed_sections": [
        "B9bcOGWd2Yxy",
        "2GEk4ta9ocWp",
        "z3msd8koMQA5",
        "ar9X4_cJMVid",
        "QkMo6nDO_mfX",
        "vYzJ0m8dnzKU",
        "9IYoNzIqBajH",
        "O6FzetC0k3ZL",
        "qstUnzMx3UAN",
        "tR24ah0a3X-I",
        "8YLWcSXQ3fqE"
      ],
      "provenance": []
    },
    "kernelspec": {
      "display_name": "Python 3",
      "name": "python3"
    },
    "language_info": {
      "name": "python"
    }
  },
  "nbformat": 4,
  "nbformat_minor": 0
}